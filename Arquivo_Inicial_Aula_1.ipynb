{
  "nbformat": 4,
  "nbformat_minor": 0,
  "metadata": {
    "kernelspec": {
      "display_name": "Python 3",
      "language": "python",
      "name": "python3"
    },
    "language_info": {
      "codemirror_mode": {
        "name": "ipython",
        "version": 3
      },
      "file_extension": ".py",
      "mimetype": "text/x-python",
      "name": "python",
      "nbconvert_exporter": "python",
      "pygments_lexer": "ipython3",
      "version": "3.8.8"
    },
    "colab": {
      "name": "Arquivo Inicial - Aula 1.ipynb",
      "provenance": [],
      "include_colab_link": true
    }
  },
  "cells": [
    {
      "cell_type": "markdown",
      "metadata": {
        "id": "view-in-github",
        "colab_type": "text"
      },
      "source": [
        "<a href=\"https://colab.research.google.com/github/alfmorais/agenda_dio/blob/main/Arquivo_Inicial_Aula_1.ipynb\" target=\"_parent\"><img src=\"https://colab.research.google.com/assets/colab-badge.svg\" alt=\"Open In Colab\"/></a>"
      ]
    },
    {
      "cell_type": "markdown",
      "metadata": {
        "id": "Nc9uC4m1kf64"
      },
      "source": [
        "# Automação de Sistemas e Processos com Python\n",
        "\n",
        "### Desafio:\n",
        "\n",
        "Todos os dias, o nosso sistema atualiza as vendas do dia anterior.\n",
        "O seu trabalho diário, como analista, é enviar um e-mail para a diretoria, assim que começar a trabalhar, com o faturamento e a quantidade de produtos vendidos no dia anterior\n",
        "\n",
        "E-mail da diretoria: seugmail+diretoria@gmail.com<br>\n",
        "Local onde o sistema disponibiliza as vendas do dia anterior: https://drive.google.com/drive/folders/149xknr9JvrlEnhNWO49zPcw0PW5icxga?usp=sharing\n",
        "\n",
        "Para resolver isso, vamos usar o pyautogui, uma biblioteca de automação de comandos do mouse e do teclado"
      ]
    },
    {
      "cell_type": "code",
      "metadata": {
        "id": "pvqyX4JTkf7T"
      },
      "source": [
        "# escrever o passo a passo para resolver o problema\n",
        "# 1° Passo: Entrar no sistema (no nosso caso entrar no link)\n",
        "# 2° Passo: Navegar até o local do relatório (entrar no passo exportar)\n",
        "# 3° Passo: Fazer o download do relatório\n",
        "# 4º Passo: Calcular os indicadores\n",
        "# 5° Passo: Entrar no e-mail\n",
        "# 6° Passo: Enviar o e-mail"
      ],
      "execution_count": null,
      "outputs": []
    },
    {
      "cell_type": "markdown",
      "metadata": {
        "id": "RIMwF34pkf7k"
      },
      "source": [
        "### Vamos agora ler o arquivo baixado para pegar os indicadores\n",
        "\n",
        "- Faturamento\n",
        "- Quantidade de Produtos"
      ]
    },
    {
      "cell_type": "code",
      "metadata": {
        "id": "eBELdOO9kf7p"
      },
      "source": [
        ""
      ],
      "execution_count": null,
      "outputs": []
    },
    {
      "cell_type": "markdown",
      "metadata": {
        "id": "jetdWKF5kf7v"
      },
      "source": [
        "### Vamos agora enviar um e-mail pelo gmail"
      ]
    },
    {
      "cell_type": "code",
      "metadata": {
        "id": "UT_DDUt8kf7w"
      },
      "source": [
        ""
      ],
      "execution_count": null,
      "outputs": []
    },
    {
      "cell_type": "markdown",
      "metadata": {
        "id": "GME_2wVrkf7x"
      },
      "source": [
        "#### Use esse código para descobrir qual a posição de um item que queira clicar\n",
        "\n",
        "- Lembre-se: a posição na sua tela é diferente da posição na minha tela"
      ]
    },
    {
      "cell_type": "code",
      "metadata": {
        "id": "l4mzEdIJkf70"
      },
      "source": [
        ""
      ],
      "execution_count": null,
      "outputs": []
    }
  ]
}